{
 "cells": [
  {
   "cell_type": "markdown",
   "id": "048bba5c",
   "metadata": {},
   "source": [
    "### Basic Imports"
   ]
  },
  {
   "cell_type": "code",
   "execution_count": 2,
   "id": "a2c3a28b",
   "metadata": {},
   "outputs": [],
   "source": [
    "from learntools.core import binder\n",
    "binder.bind(globals())\n",
    "from learntools.game_ai.ex1 import *"
   ]
  },
  {
   "cell_type": "markdown",
   "id": "83d8b817",
   "metadata": {},
   "source": [
    "### Provided function helps for a _smarter_ agent"
   ]
  },
  {
   "cell_type": "code",
   "execution_count": 7,
   "id": "3bb4fd72",
   "metadata": {},
   "outputs": [],
   "source": [
    "import numpy as np\n",
    "\n",
    "# Gets board at next step if agent drops piece in selected column\n",
    "def drop_piece(grid, col, piece, config):\n",
    "    next_grid = grid.copy()\n",
    "    for row in range(config.rows-1, -1, -1):\n",
    "        if next_grid[row][col] == 0:\n",
    "            break\n",
    "    next_grid[row][col] = piece\n",
    "    return next_grid\n",
    "\n",
    "# Returns True if dropping piece in column results in game win\n",
    "def check_winning_move(obs, config, col, piece):\n",
    "    # Convert the board to a 2D grid\n",
    "    grid = np.asarray(obs.board).reshape(config.rows, config.columns)\n",
    "    next_grid = drop_piece(grid, col, piece, config)\n",
    "    # horizontal\n",
    "    for row in range(config.rows):\n",
    "        for col in range(config.columns-(config.inarow-1)):\n",
    "            window = list(next_grid[row,col:col+config.inarow])\n",
    "            if window.count(piece) == config.inarow:\n",
    "                return True\n",
    "    # vertical\n",
    "    for row in range(config.rows-(config.inarow-1)):\n",
    "        for col in range(config.columns):\n",
    "            window = list(next_grid[row:row+config.inarow,col])\n",
    "            if window.count(piece) == config.inarow:\n",
    "                return True\n",
    "    # positive diagonal\n",
    "    for row in range(config.rows-(config.inarow-1)):\n",
    "        for col in range(config.columns-(config.inarow-1)):\n",
    "            window = list(next_grid[range(row, row+config.inarow), range(col, col+config.inarow)])\n",
    "            if window.count(piece) == config.inarow:\n",
    "                return True\n",
    "    # negative diagonal\n",
    "    for row in range(config.inarow-1, config.rows):\n",
    "        for col in range(config.columns-(config.inarow-1)):\n",
    "            window = list(next_grid[range(row, row-config.inarow, -1), range(col, col+config.inarow)])\n",
    "            if window.count(piece) == config.inarow:\n",
    "                return True\n",
    "    return False"
   ]
  },
  {
   "cell_type": "markdown",
   "id": "b1ae58f3",
   "metadata": {},
   "source": [
    "Solution: "
   ]
  },
  {
   "cell_type": "code",
   "execution_count": 8,
   "id": "96b6fbde",
   "metadata": {},
   "outputs": [
    {
     "data": {
      "application/javascript": [
       "parent.postMessage({\"jupyterEvent\": \"custom.exercise_interaction\", \"data\": {\"outcomeType\": 1, \"valueTowardsCompletion\": 0.2, \"interactionType\": 1, \"questionType\": 2, \"questionId\": \"1_SelectWinning\", \"learnToolsVersion\": \"0.3.4\", \"failureMessage\": \"\", \"exceptionClass\": \"\", \"trace\": \"\"}}, \"*\")"
      ],
      "text/plain": [
       "<IPython.core.display.Javascript object>"
      ]
     },
     "metadata": {},
     "output_type": "display_data"
    },
    {
     "data": {
      "text/markdown": [
       "<span style=\"color:#33cc33\">Correct</span>"
      ],
      "text/plain": [
       "Correct"
      ]
     },
     "metadata": {},
     "output_type": "display_data"
    }
   ],
   "source": [
    "import random\n",
    "\n",
    "def agent_q1(obs, config):\n",
    "    valid_moves = [col for col in range(config.columns) if obs.board[col] == 0]\n",
    "    # Your code here: Amend the agent!\n",
    "    for col in valid_moves:\n",
    "        if check_winning_move(obs, config, col, obs.mark):\n",
    "            return col\n",
    "    return random.choice(valid_moves)\n",
    "    \n",
    "# Check your answer\n",
    "q_1.check()"
   ]
  },
  {
   "cell_type": "markdown",
   "id": "663d60fc",
   "metadata": {},
   "source": [
    "An _even smarter agent_\n",
    "\n",
    "\n",
    "   - Select a winning move, if one is available.\n",
    "   - Otherwise, it selects a move to block the opponent from winning, if the opponent has a move that it can play in its next turn to win the game.\n",
    "   - If neither the agent nor the opponent can win in their next moves, the agent selects a random move.\n"
   ]
  },
  {
   "cell_type": "code",
   "execution_count": 12,
   "id": "1786ee31",
   "metadata": {
    "scrolled": true
   },
   "outputs": [
    {
     "data": {
      "application/javascript": [
       "parent.postMessage({\"jupyterEvent\": \"custom.exercise_interaction\", \"data\": {\"outcomeType\": 1, \"valueTowardsCompletion\": 0.2, \"interactionType\": 1, \"questionType\": 2, \"questionId\": \"2_BlockOpponent\", \"learnToolsVersion\": \"0.3.4\", \"failureMessage\": \"\", \"exceptionClass\": \"\", \"trace\": \"\"}}, \"*\")"
      ],
      "text/plain": [
       "<IPython.core.display.Javascript object>"
      ]
     },
     "metadata": {},
     "output_type": "display_data"
    },
    {
     "data": {
      "text/markdown": [
       "<span style=\"color:#33cc33\">Correct</span>"
      ],
      "text/plain": [
       "Correct"
      ]
     },
     "metadata": {},
     "output_type": "display_data"
    }
   ],
   "source": [
    "def get_opponent(obs, config):\n",
    "    if obs.mark == 1:\n",
    "        return 2\n",
    "    else: \n",
    "        return 1\n",
    "\n",
    "\n",
    "def agent_q2(obs, config):\n",
    "    # Your code here: Amend the agent!\n",
    "    valid_moves = [col for col in range(config.columns) if obs.board[col] == 0]\n",
    "    # check for personal wining moves\n",
    "    for col in valid_moves:\n",
    "        if check_winning_move(obs, config, col, obs.mark):\n",
    "            return col\n",
    "    # check for moves to block the opponent\n",
    "    opponent_mark = get_opponent(obs, config)\n",
    "    for col in valid_moves:\n",
    "        if check_winning_move(obs, config, col, opponent_mark):\n",
    "            return col\n",
    "    \n",
    "    \n",
    "    return random.choice(valid_moves)\n",
    "\n",
    "# Check your answer\n",
    "q_2.check()"
   ]
  },
  {
   "cell_type": "code",
   "execution_count": 13,
   "id": "7c30749e",
   "metadata": {},
   "outputs": [],
   "source": [
    "def my_agent(obs, config):\n",
    "    # don't want to move ahead to fast...\n",
    "    valid_moves = [col for col in range(config.columns) if obs.board[col] == 0]\n",
    "    return random.choice(valid_moves)    \n",
    "        \n",
    "    "
   ]
  },
  {
   "cell_type": "code",
   "execution_count": null,
   "id": "41024b70",
   "metadata": {},
   "outputs": [],
   "source": []
  }
 ],
 "metadata": {
  "kernelspec": {
   "display_name": "Python 3 (ipykernel)",
   "language": "python",
   "name": "python3"
  },
  "language_info": {
   "codemirror_mode": {
    "name": "ipython",
    "version": 3
   },
   "file_extension": ".py",
   "mimetype": "text/x-python",
   "name": "python",
   "nbconvert_exporter": "python",
   "pygments_lexer": "ipython3",
   "version": "3.9.7"
  }
 },
 "nbformat": 4,
 "nbformat_minor": 5
}
